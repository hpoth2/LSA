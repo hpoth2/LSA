{
 "cells": [
  {
   "cell_type": "code",
   "execution_count": 29,
   "metadata": {
    "collapsed": true
   },
   "outputs": [],
   "source": [
    "from bs4 import BeautifulSoup\n",
    "import nltk\n",
    "from nltk.corpus import stopwords\n",
    "from sklearn.feature_extraction.text import TfidfVectorizer\n",
    "from sklearn.decomposition import TruncatedSVD\n",
    "from sklearn.datasets import fetch_20newsgroups"
   ]
  },
  {
   "cell_type": "code",
   "execution_count": 30,
   "metadata": {
    "collapsed": false
   },
   "outputs": [
    {
     "name": "stdout",
     "output_type": "stream",
     "text": [
      "[nltk_data] Downloading package stopwords to\n",
      "[nltk_data]     C:\\Users\\doranala493\\AppData\\Roaming\\nltk_data...\n",
      "[nltk_data]   Package stopwords is already up-to-date!\n"
     ]
    },
    {
     "data": {
      "text/plain": [
       "True"
      ]
     },
     "execution_count": 30,
     "metadata": {},
     "output_type": "execute_result"
    }
   ],
   "source": [
    "nltk.download('stopwords')"
   ]
  },
  {
   "cell_type": "code",
   "execution_count": 31,
   "metadata": {
    "collapsed": false
   },
   "outputs": [],
   "source": [
    "categories = ['rec.sport.baseball']\n",
    "dataset = fetch_20newsgroups(subset='all',shuffle=True, random_state=42, categories=categories)\n",
    "corpus = dataset.data\n"
   ]
  },
  {
   "cell_type": "code",
   "execution_count": 32,
   "metadata": {
    "collapsed": true
   },
   "outputs": [],
   "source": [
    "stopset = set(stopwords.words('english'))\n",
    "stopset.update(['lt','p','/p','br','amp','quot','field','font','normal','span','0px','rgb','style','51', \n",
    "                'spacing','text','helvetica','size','family', 'space', 'arial', 'height', 'indent', 'letter'\n",
    "                'line','none','sans','serif','transform','line','variant','weight','times', 'new','strong', 'video', 'title'\n",
    "                'white','word','letter', 'roman','0pt','16','color','12','14','21', 'neue', 'apple', 'class',  ])"
   ]
  },
  {
   "cell_type": "code",
   "execution_count": 33,
   "metadata": {
    "collapsed": true
   },
   "outputs": [],
   "source": [
    "vectorizer = TfidfVectorizer(stop_words=stopset,\n",
    "                                 use_idf=True, ngram_range=(1, 3))\n",
    "X = vectorizer.fit_transform(corpus)"
   ]
  },
  {
   "cell_type": "code",
   "execution_count": 34,
   "metadata": {
    "collapsed": false
   },
   "outputs": [
    {
     "name": "stdout",
     "output_type": "stream",
     "text": [
      "  (0, 51460)\t0.0734463096625\n",
      "  (0, 189431)\t0.0734463096625\n",
      "  (0, 28954)\t0.0734463096625\n",
      "  (0, 146556)\t0.0734463096625\n",
      "  (0, 64407)\t0.0734463096625\n",
      "  (0, 77917)\t0.0734463096625\n",
      "  (0, 133158)\t0.0734463096625\n",
      "  (0, 103424)\t0.0734463096625\n",
      "  (0, 66793)\t0.0734463096625\n",
      "  (0, 114520)\t0.0734463096625\n",
      "  (0, 163261)\t0.0734463096625\n",
      "  (0, 181100)\t0.0734463096625\n",
      "  (0, 119624)\t0.0734463096625\n",
      "  (0, 64543)\t0.0734463096625\n",
      "  (0, 103918)\t0.0734463096625\n",
      "  (0, 95532)\t0.0734463096625\n",
      "  (0, 133073)\t0.0734463096625\n",
      "  (0, 143720)\t0.0734463096625\n",
      "  (0, 98126)\t0.0734463096625\n",
      "  (0, 115161)\t0.0734463096625\n",
      "  (0, 165620)\t0.0734463096625\n",
      "  (0, 59664)\t0.0734463096625\n",
      "  (0, 51500)\t0.0734463096625\n",
      "  (0, 35721)\t0.0734463096625\n",
      "  (0, 64533)\t0.0734463096625\n",
      "  :\t:\n",
      "  (0, 143954)\t0.0551931192048\n",
      "  (0, 122291)\t0.11038623841\n",
      "  (0, 37510)\t0.0989842910659\n",
      "  (0, 40680)\t0.104524831508\n",
      "  (0, 16529)\t0.0734463096625\n",
      "  (0, 94943)\t0.11038623841\n",
      "  (0, 25779)\t0.0160794683389\n",
      "  (0, 100805)\t0.010248916482\n",
      "  (0, 163850)\t0.0606840380211\n",
      "  (0, 48144)\t0.0387972930629\n",
      "  (0, 175254)\t0.0391426583255\n",
      "  (0, 114318)\t0.0606840380211\n",
      "  (0, 175290)\t0.0179368326547\n",
      "  (0, 159024)\t0.0372269139097\n",
      "  (0, 29476)\t0.0306118463788\n",
      "  (0, 121678)\t0.0102695385529\n",
      "  (0, 68334)\t0.124508834349\n",
      "  (0, 51382)\t0.160868220155\n",
      "  (0, 137192)\t0.0126673855948\n",
      "  (0, 161824)\t0.0101872995629\n",
      "  (0, 60164)\t0.023728059338\n",
      "  (0, 38750)\t0.0505117257066\n",
      "  (0, 38760)\t0.0505117257066\n",
      "  (0, 99152)\t0.0494921455329\n",
      "  (0, 186930)\t0.0734463096625\n"
     ]
    }
   ],
   "source": [
    "X[0]\n",
    "print X[0]"
   ]
  },
  {
   "cell_type": "code",
   "execution_count": 35,
   "metadata": {
    "collapsed": false
   },
   "outputs": [
    {
     "data": {
      "text/plain": [
       "(994, 190159)"
      ]
     },
     "execution_count": 35,
     "metadata": {},
     "output_type": "execute_result"
    }
   ],
   "source": [
    "X.shape"
   ]
  },
  {
   "cell_type": "code",
   "execution_count": 36,
   "metadata": {
    "collapsed": false
   },
   "outputs": [
    {
     "data": {
      "text/plain": [
       "TruncatedSVD(algorithm='randomized', n_components=27, n_iter=100,\n",
       "       random_state=None, tol=0.0)"
      ]
     },
     "execution_count": 36,
     "metadata": {},
     "output_type": "execute_result"
    }
   ],
   "source": [
    "lsa = TruncatedSVD(n_components=27, n_iter=100)\n",
    "lsa.fit(X)"
   ]
  },
  {
   "cell_type": "code",
   "execution_count": 37,
   "metadata": {
    "collapsed": false
   },
   "outputs": [
    {
     "data": {
      "text/plain": [
       "array([ 0.01601607,  0.00499136,  0.0008138 , ...,  0.00102587,\n",
       "        0.00102587,  0.00102587])"
      ]
     },
     "execution_count": 37,
     "metadata": {},
     "output_type": "execute_result"
    }
   ],
   "source": [
    "lsa.components_[0]"
   ]
  },
  {
   "cell_type": "code",
   "execution_count": 38,
   "metadata": {
    "collapsed": false
   },
   "outputs": [
    {
     "name": "stdout",
     "output_type": "stream",
     "text": [
      "2.7.11 |Anaconda 2.5.0 (64-bit)| (default, Jan 29 2016, 14:26:21) [MSC v.1500 64 bit (AMD64)]\n"
     ]
    }
   ],
   "source": [
    "import sys\n",
    "print (sys.version)"
   ]
  },
  {
   "cell_type": "code",
   "execution_count": 39,
   "metadata": {
    "collapsed": false
   },
   "outputs": [
    {
     "name": "stdout",
     "output_type": "stream",
     "text": [
      "Concept 0:\n",
      "edu\n",
      "com\n",
      "year\n",
      "writes\n",
      "team\n",
      "would\n",
      "game\n",
      "article\n",
      "re\n",
      "cs\n",
      " \n",
      "Concept 1:\n",
      "year\n",
      "organization\n",
      "00 00 baltimore\n",
      "really\n",
      "00 00 chicago\n",
      "would\n",
      "think\n",
      "distribution\n",
      "last\n",
      "jays\n",
      " \n",
      "Concept 2:\n",
      "aix\n",
      "writes\n",
      "go\n",
      "like\n",
      "roger\n",
      "10\n",
      "ibm\n",
      "team\n",
      "would\n",
      "kingston\n",
      " \n",
      "Concept 3:\n",
      "edu\n",
      "team\n",
      "last year\n",
      "like\n",
      "two\n",
      "runs\n",
      "nntp posting\n",
      "game\n",
      "jays\n",
      "cs\n",
      " \n",
      "Concept 4:\n",
      "think\n",
      "00\n",
      "also\n",
      "subject re\n",
      "baseball\n",
      "one\n",
      "years\n",
      "big\n",
      "00 00\n",
      "get\n",
      " \n",
      "Concept 5:\n",
      "hit\n",
      "year\n",
      "edu\n",
      "lines\n",
      "play\n",
      "win\n",
      "00 00 american\n",
      "ball\n",
      "first\n",
      "see\n",
      " \n",
      "Concept 6:\n",
      "00\n",
      "00 00\n",
      "00 00 00\n",
      "00 00 chicago\n",
      "last\n",
      "first\n",
      "00 00 01\n",
      "like\n",
      "cs\n",
      "games\n",
      " \n",
      "Concept 7:\n",
      "game\n",
      "would\n",
      "games\n",
      "player\n",
      "think\n",
      "even\n",
      "series\n",
      "second\n",
      "00 00 baltimore\n",
      "gant\n",
      " \n",
      "Concept 8:\n",
      "like\n",
      "well\n",
      "game\n",
      "00 00 000\n",
      "even\n",
      "alomar\n",
      "year\n",
      "would\n",
      "home\n",
      "00 00 american\n",
      " \n",
      "Concept 9:\n",
      "university\n",
      "like\n",
      "back\n",
      "host\n",
      "pitcher\n",
      "good\n",
      "win\n",
      "one\n",
      "first\n",
      "baseball\n",
      " \n",
      "Concept 10:\n",
      "university\n",
      "organization\n",
      "subject\n",
      "article\n",
      "edu\n",
      "subject re\n",
      "lines\n",
      "writes\n",
      "re\n",
      "cs\n",
      " \n",
      "Concept 11:\n",
      "team\n",
      "know\n",
      "morris\n",
      "lines\n",
      "00\n",
      "game\n",
      "john\n",
      "people\n",
      "might\n",
      "would\n",
      " \n",
      "Concept 12:\n",
      "com\n",
      "re\n",
      "00 00 baltimore\n",
      "subject\n",
      "much\n",
      "lines\n",
      "player\n",
      "00 00 00\n",
      "games\n",
      "even\n",
      " \n",
      "Concept 13:\n",
      "first\n",
      "organization university\n",
      "10\n",
      "well\n",
      "reply\n",
      "say\n",
      "much\n",
      "get\n",
      "subject re\n",
      "00 00 01\n",
      " \n",
      "Concept 14:\n",
      "like\n",
      "com\n",
      "nntp posting host\n",
      "posting host\n",
      "think\n",
      "see\n",
      "nntp posting\n",
      "anyone\n",
      "nntp\n",
      "organization\n",
      " \n",
      "Concept 15:\n",
      "university\n",
      "would\n",
      "subject\n",
      "see\n",
      "team\n",
      "nntp posting host\n",
      "posting host\n",
      "nntp posting\n",
      "sox\n",
      "host\n",
      " \n",
      "Concept 16:\n",
      "year\n",
      "games\n",
      "baseball\n",
      "nntp posting\n",
      "nntp posting host\n",
      "posting host\n",
      "say\n",
      "better\n",
      "jewish\n",
      "runs\n",
      " \n",
      "Concept 17:\n",
      "cs\n",
      "subject re\n",
      "games\n",
      "league\n",
      "two\n",
      "00 00 chicago\n",
      "good\n",
      "know\n",
      "really\n",
      "braves\n",
      " \n",
      "Concept 18:\n",
      "braves\n",
      "com\n",
      "game\n",
      "get\n",
      "time\n",
      "writes\n",
      "games\n",
      "last year\n",
      "best\n",
      "well\n",
      " \n",
      "Concept 19:\n",
      "like\n",
      "writes\n",
      "host\n",
      "00 00 01\n",
      "win\n",
      "article\n",
      "ca\n",
      "games\n",
      "see\n",
      "university\n",
      " \n",
      "Concept 20:\n",
      "think\n",
      "time\n",
      "season\n",
      "people\n",
      "look\n",
      "would\n",
      "well\n",
      "hitter\n",
      "team\n",
      "host\n",
      " \n",
      "Concept 21:\n",
      "players\n",
      "game\n",
      "00 00 01\n",
      "one\n",
      "00 00 baltimore\n",
      "fans\n",
      "article\n",
      "edu\n",
      "go\n",
      "going\n",
      " \n",
      "Concept 22:\n",
      "writes\n",
      "one\n",
      "com\n",
      "think\n",
      "see\n",
      "would\n",
      "00 00 01\n",
      "get\n",
      "re\n",
      "john\n",
      " \n",
      "Concept 23:\n",
      "games\n",
      "players\n",
      "00 00 american\n",
      "edu\n",
      "time\n",
      "team\n",
      "world\n",
      "like\n",
      "00 00 baltimore\n",
      "think\n",
      " \n",
      "Concept 24:\n",
      "university\n",
      "lines\n",
      "cs\n",
      "even\n",
      "think\n",
      "00 00 baltimore\n",
      "nntp\n",
      "nntp posting\n",
      "players\n",
      "won\n",
      " \n",
      "Concept 25:\n",
      "article\n",
      "two\n",
      "edu\n",
      "better\n",
      "writes\n",
      "good\n",
      "would\n",
      "win\n",
      "much\n",
      "00 00 00\n",
      " \n",
      "Concept 26:\n",
      "cs\n",
      "organization\n",
      "think\n",
      "00 00 00\n",
      "team\n",
      "well\n",
      "base\n",
      "00 00 01\n",
      "best\n",
      "get\n",
      " \n"
     ]
    }
   ],
   "source": [
    "terms = vectorizer.get_feature_names()\n",
    "for i, comp in enumerate(lsa.components_): \n",
    "    termsInComp = zip (terms,comp)\n",
    "    sortedTerms =  sorted(termsInComp, key=lambda x: x[1], reverse=True) [:10]\n",
    "    print \"Concept %d:\" % i\n",
    "    for term in sortedTerms:\n",
    "        print term[0]\n",
    "    print \" \""
   ]
  },
  {
   "cell_type": "code",
   "execution_count": 40,
   "metadata": {
    "collapsed": false
   },
   "outputs": [
    {
     "data": {
      "text/plain": [
       "array([[ 0.01601607,  0.00499136,  0.0008138 , ...,  0.00102587,\n",
       "         0.00102587,  0.00102587],\n",
       "       [ 0.00860166,  0.00250451,  0.05211497, ..., -0.00119403,\n",
       "        -0.00119403, -0.00119403],\n",
       "       [ 0.01734904,  0.00914593,  0.01823258, ...,  0.00038301,\n",
       "         0.00038301,  0.00038301],\n",
       "       ..., \n",
       "       [-0.01458689,  0.01366209,  0.0772346 , ..., -0.00183074,\n",
       "        -0.00183074, -0.00183074],\n",
       "       [-0.02065688, -0.01332887,  0.0925238 , ...,  0.00207076,\n",
       "         0.00207076,  0.00207076],\n",
       "       [-0.07795267, -0.02435029,  0.20074849, ..., -0.00048796,\n",
       "        -0.00048796, -0.00048796]])"
      ]
     },
     "execution_count": 40,
     "metadata": {},
     "output_type": "execute_result"
    }
   ],
   "source": [
    "lsa.components_"
   ]
  },
  {
   "cell_type": "code",
   "execution_count": null,
   "metadata": {
    "collapsed": false
   },
   "outputs": [],
   "source": []
  },
  {
   "cell_type": "code",
   "execution_count": null,
   "metadata": {
    "collapsed": true
   },
   "outputs": [],
   "source": []
  }
 ],
 "metadata": {
  "kernelspec": {
   "display_name": "Python 2",
   "language": "python",
   "name": "python2"
  },
  "language_info": {
   "codemirror_mode": {
    "name": "ipython",
    "version": 2
   },
   "file_extension": ".py",
   "mimetype": "text/x-python",
   "name": "python",
   "nbconvert_exporter": "python",
   "pygments_lexer": "ipython2",
   "version": "2.7.11"
  }
 },
 "nbformat": 4,
 "nbformat_minor": 0
}
